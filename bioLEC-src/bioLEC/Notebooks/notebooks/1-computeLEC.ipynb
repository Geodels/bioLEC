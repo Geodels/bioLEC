{
 "cells": [
  {
   "cell_type": "markdown",
   "metadata": {},
   "source": [
    "# Landscape elevational connectivity "
   ]
  },
  {
   "cell_type": "code",
   "execution_count": null,
   "metadata": {},
   "outputs": [],
   "source": [
    "import time\n",
    "import numpy as np\n",
    "import pandas as pd\n",
    "import cmocean as cmo\n",
    "from skimage import graph\n",
    "import bioLEC as lec\n",
    "from pyevtk.hl import gridToVTK\n",
    "\n",
    "import matplotlib.pyplot as plt\n",
    "from scipy.interpolate import RegularGridInterpolator\n",
    "from mpl_toolkits.axes_grid1 import make_axes_locatable\n",
    "\n",
    "import warnings\n",
    "warnings.filterwarnings('ignore')\n",
    "warnings.simplefilter(action = \"ignore\", category = FutureWarning)\n",
    "\n",
    "%config InlineBackend.figure_format = 'svg'\n",
    "%matplotlib inline"
   ]
  },
  {
   "cell_type": "markdown",
   "metadata": {},
   "source": [
    "Here we illustrate in a _jupyter notebook_ the main steps to compute the **landscape elevational connectivity** described in Bertuzzo et al. (2016) using our developed parallel LECmetrics python code. \n",
    "\n",
    "Notebooks environment will not be the best option for large landscape models and we will recommand the use of the python script: `runLEC.py` in HPC environment. the code will need to be \n",
    "\n",
    "```bash\n",
    "mpirun -np 400 python runLEC.py \n",
    "```\n",
    "\n",
    "***\n",
    "\n",
    "<img src=\"../images/fig1.png\" alt=\"LEC values\" width=\"800\" height=\"400\"/>\n",
    "\n",
    "\n",
    "***\n",
    "\n",
    "<div class=\"alert alert-block alert-info\">E. Bertuzzo, F. Carrara, L. Mari, F. Altermatt, I. Rodriguez-Iturbe & A. Rinaldo - Geomorphic controls on species richness. **PNAS**, 113(7) 1737-1742, [DOI: 10.1073/pnas.1518922113](http://www.pnas.org/content/113/7/1737), 2016.</div>"
   ]
  },
  {
   "cell_type": "markdown",
   "metadata": {},
   "source": [
    "## LEC class initialisation\n",
    "\n",
    "Initialization function for building landscape elevational connectivity.\n",
    "\n",
    "\n",
    "### Parameters\n",
    "\n",
    "+ filename: file name containing regularly spaced elevation grid\n",
    "+ periodic: applied periodic boundary to the elevation grid\n",
    "+ symmetric: applied symmetric boundary to the elevation grid\n",
    "+ sigmap: species niche width percentage based on elevation extent\n",
    "+ sigmav: species niche fixed width values\n",
    "+ connected: if `True`, computes the path based on the diagonal moves as well as the axial ones\n",
    "+ delimiter: delimiter between X,Y,Z coordinates for elevation file (_filename_)\n",
    "+ header: define position of the header (0 meaning top row) if there is no header use `None`"
   ]
  },
  {
   "cell_type": "code",
   "execution_count": null,
   "metadata": {},
   "outputs": [],
   "source": [
    "biodiv = lec.landscapeConnectivity(filename='../dataset/dem.csv',periodic=False,symmetric=False,\n",
    "                 sigmap=0.1,sigmav=None,delimiter=',',header=0)"
   ]
  },
  {
   "cell_type": "markdown",
   "metadata": {},
   "source": [
    "_Visualisation of elevation map_"
   ]
  },
  {
   "cell_type": "code",
   "execution_count": null,
   "metadata": {},
   "outputs": [],
   "source": [
    "save = None\n",
    "fig = plt.figure(figsize=(6,6))\n",
    "ax1 = plt.gca()\n",
    "\n",
    "ax1.set_title('Landscape elevation', fontsize=10)\n",
    "im1 = plt.imshow(np.flipud(biodiv.data), vmin=biodiv.data.min(), vmax=biodiv.data.max(), \n",
    "                 cmap=cmo.cm.delta, aspect='auto')\n",
    "\n",
    "ax1.tick_params(axis='x', labelsize=8)\n",
    "ax1.tick_params(axis='y', labelsize=8)\n",
    "ax1.grid(False)\n",
    "\n",
    "divider1 = make_axes_locatable(ax1)\n",
    "cax1 = divider1.append_axes(\"right\", size=\"5%\", pad=0.05)\n",
    "cbar1 = plt.colorbar(im1,cax=cax1)\n",
    "cbar1.ax.tick_params(labelsize=9) \n",
    "\n",
    "plt.tight_layout()\n",
    "plt.show()\n",
    "if save is not None:\n",
    "    fig.savefig(save,dpi=200, bbox_inches='tight')"
   ]
  },
  {
   "cell_type": "markdown",
   "metadata": {},
   "source": [
    "## Computing landscape elevational connectivity"
   ]
  },
  {
   "cell_type": "code",
   "execution_count": null,
   "metadata": {},
   "outputs": [],
   "source": [
    "time0 = time.clock()\n",
    "biodiv.computeLEC(fout=500)\n",
    "print('Compute LEC function took ',time.clock()-time0)"
   ]
  },
  {
   "cell_type": "markdown",
   "metadata": {},
   "source": [
    "_Visualisation of landscape elevational map_"
   ]
  },
  {
   "cell_type": "code",
   "execution_count": null,
   "metadata": {},
   "outputs": [],
   "source": [
    "save = None\n",
    "fig = plt.figure(figsize=(6,6))\n",
    "ax1 = plt.gca()\n",
    "\n",
    "ax1.set_title('Landscape elevational connectivity', fontsize=10)\n",
    "im1 = plt.imshow(np.flipud(biodiv.LEC), vmin=biodiv.LEC.min(), vmax=biodiv.LEC.max(), \n",
    "                 cmap=cmo.cm.balance, aspect='auto')\n",
    "\n",
    "ax1.tick_params(axis='x', labelsize=8)\n",
    "ax1.tick_params(axis='y', labelsize=8)\n",
    "ax1.grid(False)\n",
    "\n",
    "divider1 = make_axes_locatable(ax1)\n",
    "cax1 = divider1.append_axes(\"right\", size=\"5%\", pad=0.05)\n",
    "cbar1 = plt.colorbar(im1,cax=cax1)\n",
    "cbar1.ax.tick_params(labelsize=9) \n",
    "\n",
    "plt.tight_layout()\n",
    "plt.show()\n",
    "if save is not None:\n",
    "    fig.savefig(save,dpi=200, bbox_inches='tight')"
   ]
  },
  {
   "cell_type": "markdown",
   "metadata": {},
   "source": [
    "## Write LEC data"
   ]
  },
  {
   "cell_type": "code",
   "execution_count": null,
   "metadata": {},
   "outputs": [],
   "source": [
    "time0 = time.clock()\n",
    "biodiv.writeLEC('LEC.csv')\n",
    "if biodiv.rank == 0:\n",
    "    print('Output function took ',time.clock()-time0)"
   ]
  },
  {
   "cell_type": "markdown",
   "metadata": {},
   "source": [
    "# Data transformation & analysis"
   ]
  },
  {
   "cell_type": "markdown",
   "metadata": {},
   "source": [
    "First we open the _elevation_ (`dem.csv`) and the _LEC_ (`LEC.csv`) files and create a new file (`combined.csv`)  that combines both dataset."
   ]
  },
  {
   "cell_type": "code",
   "execution_count": null,
   "metadata": {},
   "outputs": [],
   "source": [
    "folder = '../dataset'\n",
    "file1 = folder+'/dem.csv'\n",
    "file2 = 'LEC.csv'\n",
    "outfile = 'combined.csv'"
   ]
  },
  {
   "cell_type": "markdown",
   "metadata": {},
   "source": [
    "First file:"
   ]
  },
  {
   "cell_type": "code",
   "execution_count": null,
   "metadata": {},
   "outputs": [],
   "source": [
    "df = pd.read_csv(file1, sep=',', engine='c',\n",
    "                header=0, na_filter=False, dtype=np.float,\n",
    "                low_memory=False)\n",
    "X = df['X']\n",
    "Y = df['Y']\n",
    "Z = df['Z']\n",
    "\n",
    "dx = ( X[1] - X[0] )\n",
    "nx = int((X.max() - X.min())/dx+1)\n",
    "ny = int((Y.max() - Y.min())/dx+1)"
   ]
  },
  {
   "cell_type": "markdown",
   "metadata": {},
   "source": [
    "Second file:"
   ]
  },
  {
   "cell_type": "code",
   "execution_count": null,
   "metadata": {},
   "outputs": [],
   "source": [
    "df2 = pd.read_csv(file2, sep=',', engine='c',\n",
    "                header=0, na_filter=False, dtype=np.float,\n",
    "                low_memory=False)\n",
    "LEC = df2['LEC']"
   ]
  },
  {
   "cell_type": "code",
   "execution_count": null,
   "metadata": {},
   "outputs": [],
   "source": [
    "LEC.values.reshape(ny,nx)"
   ]
  },
  {
   "cell_type": "markdown",
   "metadata": {},
   "source": [
    "We now write the combined dataset file:"
   ]
  },
  {
   "cell_type": "code",
   "execution_count": null,
   "metadata": {},
   "outputs": [],
   "source": [
    "X = X.values.reshape(ny,nx)\n",
    "Y = Y.values.reshape(ny,nx)\n",
    "Z = Z.values.reshape(ny,nx)\n",
    "LEC = LEC.values.reshape(ny,nx)\n",
    "df3 = pd.DataFrame({'X':X.flatten(),'Y':Y.flatten(),\n",
    "                    'Z':Z.flatten(),'LEC':LEC.flatten()})    \n",
    "df3.to_csv(outfile, columns=['X', 'Y', 'Z', 'LEC'], sep=',', index=False , header=1)"
   ]
  },
  {
   "cell_type": "markdown",
   "metadata": {},
   "source": [
    "Now we create a **VTK** file for quick visualisation in _Paraview_..."
   ]
  },
  {
   "cell_type": "code",
   "execution_count": null,
   "metadata": {},
   "outputs": [],
   "source": [
    "vtkfile = folder+'/grid'\n",
    "\n",
    "Xv = np.zeros((X.shape[0],X.shape[1],2))\n",
    "Yv = np.zeros((X.shape[0],X.shape[1],2))\n",
    "Zv = np.zeros((X.shape[0],X.shape[1],2))\n",
    "LECv = np.zeros((X.shape[0],X.shape[1],2))\n",
    "normLEC = np.zeros((X.shape[0],X.shape[1],2))\n",
    "\n",
    "Xv[:,:,0] = X\n",
    "Yv[:,:,0] = Y\n",
    "Zv[:,:,0] = Z\n",
    "LECv[:,:,0] = LEC\n",
    "normLEC[:,:,0] = LEC/LEC.max()\n",
    "\n",
    "Xv[:,:,1] = X\n",
    "Yv[:,:,1] = Y\n",
    "Zv[:,:,1] = Z\n",
    "LECv[:,:,1] = LEC\n",
    "normLEC[:,:,1] = LEC/LEC.max()\n",
    "\n",
    "gridToVTK(vtkfile, Xv, Yv, Zv, pointData = {\"elevation\" : Zv, \"LEC\" :LECv, \"nLEC\" :normLEC})"
   ]
  },
  {
   "cell_type": "markdown",
   "metadata": {},
   "source": [
    "## Plotting elevation and LEC distribution\n",
    "\n",
    "_Elevation frequency as function of site elevation_"
   ]
  },
  {
   "cell_type": "code",
   "execution_count": null,
   "metadata": {},
   "outputs": [],
   "source": [
    "folder = 'dataset'\n",
    "basinfile = 'combined.csv'\n",
    "\n",
    "data = pd.read_csv(basinfile)\n",
    "\n",
    "ax = data.Z.plot(kind='hist', color='Blue', alpha=0.1, bins=80, xlim=(data.Z.min(),data.Z.max()))\n",
    "plt.xlabel('Elevation')\n",
    "data.Z.plot(kind='density', figsize=(6,6), ax=ax, xlim=(data.Z.min(),data.Z.max()),\n",
    "               linewidth=4,title='Elevation frequency as function of site elevation',secondary_y=True,y='Density')\n",
    "ax.set_ylabel('Frequency count')\n",
    "plt.ylabel('Density')\n",
    "plt.show()"
   ]
  },
  {
   "cell_type": "markdown",
   "metadata": {},
   "source": [
    "_Landscape elevational connectivity as a function of elevation_"
   ]
  },
  {
   "cell_type": "code",
   "execution_count": null,
   "metadata": {},
   "outputs": [],
   "source": [
    "ax = data.plot(kind='scatter', x='Z', y='LEC', c='white', edgecolors='lightgray', figsize=(6,6), \n",
    "          xlim=(data['Z'].min(),data['Z'].max()), s=5, title='Landscape elevational connectivity')\n",
    "plt.xlabel('Elevation')\n",
    "ax2=ax.twinx()  \n",
    "data.Z.plot(kind='density',secondary_y=True, ax=ax2, xlim=(data['Z'].min(),data['Z'].max()),\n",
    "               linewidth=2)\n",
    "ax.set_ylabel('LEC')\n",
    "plt.ylabel('Density')\n",
    "plt.show()"
   ]
  },
  {
   "cell_type": "markdown",
   "metadata": {},
   "source": [
    "_Combined plot_"
   ]
  },
  {
   "cell_type": "code",
   "execution_count": null,
   "metadata": {},
   "outputs": [],
   "source": [
    "nbins = 40\n",
    "fig, ax = plt.subplots(figsize=(6, 6))\n",
    "\n",
    "w = data.LEC\n",
    "n, _ = np.histogram(data.Z, bins=nbins)\n",
    "sy, _ = np.histogram(data.Z, bins=nbins, weights=w)\n",
    "sy2, _ = np.histogram(data.Z, bins=nbins, weights=w*w)\n",
    "mean = sy / n\n",
    "std = np.sqrt(sy2/n - mean*mean)\n",
    "\n",
    "plt.ylabel('LEC')\n",
    "plt.xlabel('Elevation')\n",
    "\n",
    "plt.plot((_[1:] + _[:-1])/2, mean,color='steelblue',zorder=2,linewidth=2)\n",
    "plt.scatter(data.Z, w, c='w',edgecolors='lightgray', zorder=0,alpha=1.,s=5)\n",
    "ax.set_xlim(data.Z.min(),data.Z.max())\n",
    "\n",
    "(_, caps, _) = plt.errorbar(\n",
    "    (_[1:] + _[:-1])/2, mean, yerr=std, fmt='-o', c='steelblue',markersize=4, capsize=3,zorder=1,linewidth=1.25)\n",
    "\n",
    "for cap in caps:\n",
    "    cap.set_markeredgewidth(1)\n",
    "\n",
    "\n",
    "ax2=ax.twinx()  \n",
    "data.Z.plot(kind='density',secondary_y=True, ax=ax2, xlim=(data.Z.min(),data.Z.max()),\n",
    "               color='coral',linewidth=2,zorder=0)\n",
    " \n",
    "\n",
    "plt.ylabel('Density', color='coral')\n",
    "plt.show()"
   ]
  },
  {
   "cell_type": "markdown",
   "metadata": {},
   "source": [
    "## Testing Graph connectivities and boundary conditions on LEC calculation \n",
    "\n",
    "***\n",
    "\n",
    "<img src=\"../images/fig2.png\" alt=\"LEC values\" width=\"800\" height=\"800\"/>\n",
    "\n",
    "\n",
    "***"
   ]
  },
  {
   "cell_type": "markdown",
   "metadata": {},
   "source": [
    "## Impact of grid resolution on LEC calculation \n",
    "\n",
    "***\n",
    "\n",
    "<img src=\"../images/fig3.png\" alt=\"LEC values\" width=\"800\" height=\"800\"/>\n",
    "\n",
    "\n",
    "***"
   ]
  },
  {
   "cell_type": "code",
   "execution_count": null,
   "metadata": {},
   "outputs": [],
   "source": []
  }
 ],
 "metadata": {
  "kernelspec": {
   "display_name": "Python 3",
   "language": "python",
   "name": "python3"
  },
  "language_info": {
   "codemirror_mode": {
    "name": "ipython",
    "version": 3
   },
   "file_extension": ".py",
   "mimetype": "text/x-python",
   "name": "python",
   "nbconvert_exporter": "python",
   "pygments_lexer": "ipython3",
   "version": "3.5.3"
  }
 },
 "nbformat": 4,
 "nbformat_minor": 2
}
