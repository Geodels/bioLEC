{
 "cells": [
  {
   "cell_type": "markdown",
   "metadata": {},
   "source": [
    "# Landscape elevational connectivity "
   ]
  },
  {
   "cell_type": "code",
   "execution_count": null,
   "metadata": {},
   "outputs": [],
   "source": [
    "import numpy as np\n",
    "import bioLEC as lec\n",
    "\n",
    "%matplotlib inline\n",
    "%config InlineBackend.figure_format = 'svg' \n",
    "\n",
    "from pylab import rcParams\n",
    "%matplotlib inline"
   ]
  },
  {
   "cell_type": "markdown",
   "metadata": {},
   "source": [
    "Here we illustrate in a _jupyter notebook_ the main steps to compute the **landscape elevational connectivity** described in Bertuzzo et al. (2016) using our developed parallel LECmetrics python code. \n",
    "\n",
    "+ E. Bertuzzo, F. Carrara, L. Mari, F. Altermatt, I. Rodriguez-Iturbe & A. Rinaldo - Geomorphic controls on species richness. **PNAS**, 113(7) 1737-1742, [DOI: 10.1073/pnas.1518922113](https://doi.org/10.1073/pnas.1518922113), 2016."
   ]
  },
  {
   "cell_type": "markdown",
   "metadata": {},
   "source": [
    "## bioLEC class initialisation\n",
    "\n",
    "Initialization function for building landscape elevational connectivity.\n",
    "\n",
    "\n",
    "### Parameters\n",
    "\n",
    "+ filename: file name containing regularly spaced elevation grid\n",
    "+ periodic: applied periodic boundary to the elevation grid\n",
    "+ symmetric: applied symmetric boundary to the elevation grid\n",
    "+ sigmap: species niche width percentage based on elevation extent\n",
    "+ sigmav: species niche fixed width values\n",
    "+ connected: if `True`, computes the path based on the diagonal moves as well as the axial ones\n",
    "+ delimiter: delimiter between X,Y,Z coordinates for elevation file (_filename_)\n",
    "+ header: define position of the header (0 meaning top row) if there is no header use `None`"
   ]
  },
  {
   "cell_type": "code",
   "execution_count": null,
   "metadata": {},
   "outputs": [],
   "source": [
    "biodiv = bLEC.landscapeConnectivity(filename='../dataset/dem.csv')"
   ]
  },
  {
   "cell_type": "markdown",
   "metadata": {},
   "source": [
    "# Visualising the initial mesh"
   ]
  },
  {
   "cell_type": "markdown",
   "metadata": {},
   "source": [
    "Define mesh coordinates from the package:"
   ]
  },
  {
   "cell_type": "code",
   "execution_count": null,
   "metadata": {},
   "outputs": [],
   "source": [
    "verts = np.vstack([biodiv.X, biodiv.Y])\n",
    "verts = np.vstack([verts, biodiv.Z]).T"
   ]
  },
  {
   "cell_type": "code",
   "execution_count": null,
   "metadata": {},
   "outputs": [],
   "source": [
    "lv = lavavu.Viewer(border=False, background=\"#FFFFFF\", resolution=[500,500], near=-10.0)\n",
    "\n",
    "lvQuad = lv.quads(\"Z\",  vertices=verts, dims=[100,100], wireframe=False, colour=\"#161616\", opacity=1.0)\n",
    "lvQuad.vertices(verts)\n",
    "lvQuad.values(biodiv.Z,\"elevation\")\n",
    "\n",
    "cm = lvQuad.colourmap(\"dem1\", range=[0,1000.], reverse=False)\n",
    "cb = lvQuad.colourbar()\n",
    "lvQuad.control.Panel()\n",
    "\n",
    "# Obtained from lv1.camera()\n",
    "lv.translation(559.076, 4074.758, -78583.664)\n",
    "lv.rotation(-35.209, 1.642, -0.915)\n",
    "lv.scale('z', 8)\n",
    "\n",
    "lv.control.ObjectList()\n",
    "lv.control.Range(command='scale z', range=(1,10), step=1, value=8)\n",
    "lv.control.show()"
   ]
  },
  {
   "cell_type": "markdown",
   "metadata": {},
   "source": [
    "# Computing landscape elevational connectivity"
   ]
  },
  {
   "cell_type": "code",
   "execution_count": null,
   "metadata": {},
   "outputs": [],
   "source": [
    "biodiv.computeLEC()"
   ]
  },
  {
   "cell_type": "markdown",
   "metadata": {},
   "source": [
    "# Visualisation of landscape elevational map"
   ]
  },
  {
   "cell_type": "code",
   "execution_count": null,
   "metadata": {},
   "outputs": [],
   "source": [
    "vLEC = np.divide(biodiv.LEC.flatten(),biodiv.LEC.max())\n",
    "\n",
    "lv1 = lavavu.Viewer(border=False, background=\"#FFFFFF\", resolution=[500,500], near=-10.0)\n",
    "\n",
    "lvQuad1 = lv1.quads(\"Z\",  vertices=verts, dims=[100,100], wireframe=False, colour=\"#161616\", opacity=1.0)\n",
    "lvQuad1.vertices(verts)\n",
    "lvQuad1.values(biodiv.Z,\"elevation\")\n",
    "cm = lvQuad1.colourmap(\"dem1\", range=[0,1000.], reverse=False)\n",
    "cb = lvQuad1.colourbar()\n",
    "lvQuad1.control.Panel()\n",
    "\n",
    "lvQuad2 = lv1.quads(\"LEC\",  vertices=verts, dims=[100,100], wireframe=False, colour=\"#161616\", opacity=1.0)\n",
    "lvQuad2.values(vLEC,\"LEC\")\n",
    "cm1 = lvQuad2.colourmap(\"coolwarm\", range=[0,1.], reverse=False)\n",
    "cb1 = lvQuad2.colourbar()\n",
    "\n",
    "# obtained from lv1.camera()\n",
    "lv1.translation(559.076, 4074.758, -78583.664)\n",
    "lv1.rotation(-35.209, 1.642, -0.915)\n",
    "lv1.scale('z', 8)\n",
    "\n",
    "lv1.control.ObjectList()\n",
    "lv1.control.Range(command='scale z', range=(1,10), step=1, value=8)\n",
    "lv1.control.show()"
   ]
  },
  {
   "cell_type": "markdown",
   "metadata": {},
   "source": [
    "# Write LEC data"
   ]
  },
  {
   "cell_type": "code",
   "execution_count": null,
   "metadata": {
    "scrolled": true
   },
   "outputs": [],
   "source": [
    "biodiv.writeLEC('result')\n",
    "biodiv.viewResult(imName='plot.png')"
   ]
  },
  {
   "cell_type": "markdown",
   "metadata": {},
   "source": [
    "# Plotting elevation and LEC distribution\n",
    "\n",
    "_Elevation frequency as function of site elevation_"
   ]
  },
  {
   "cell_type": "code",
   "execution_count": null,
   "metadata": {
    "scrolled": true
   },
   "outputs": [],
   "source": [
    "biodiv.viewElevFrequency(input='result.csv', imName='elev_freq.png', dpi=300)\n",
    "biodiv.viewLECFrequency(input='result.csv', imName='lec_freq.png', dpi=300)\n",
    "biodiv.viewLECZbar(input='result.csv', imName='lec_bar.png', dpi=300)"
   ]
  },
  {
   "cell_type": "code",
   "execution_count": null,
   "metadata": {},
   "outputs": [],
   "source": []
  }
 ],
 "metadata": {
  "kernelspec": {
   "display_name": "Python 3",
   "language": "python",
   "name": "python3"
  },
  "language_info": {
   "codemirror_mode": {
    "name": "ipython",
    "version": 3
   },
   "file_extension": ".py",
   "mimetype": "text/x-python",
   "name": "python",
   "nbconvert_exporter": "python",
   "pygments_lexer": "ipython3",
   "version": "3.5.3"
  }
 },
 "nbformat": 4,
 "nbformat_minor": 2
}
