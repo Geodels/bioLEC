{
 "cells": [
  {
   "cell_type": "markdown",
   "metadata": {},
   "source": [
    "# Compute landscape metrics"
   ]
  },
  {
   "cell_type": "code",
   "execution_count": null,
   "metadata": {
    "collapsed": true
   },
   "outputs": [],
   "source": [
    "import numpy as np\n",
    "import pandas as pd\n",
    "import cmocean as cmo\n",
    "import matplotlib.pyplot as plt\n",
    "\n",
    "import matplotlib.pyplot as plt\n",
    "from scipy.interpolate import RegularGridInterpolator\n",
    "from mpl_toolkits.axes_grid1 import make_axes_locatable\n",
    "\n",
    "import warnings\n",
    "warnings.filterwarnings('ignore')\n",
    "warnings.simplefilter(action = \"ignore\", category = FutureWarning)\n",
    "\n",
    "%config InlineBackend.figure_format = 'svg'\n",
    "%matplotlib inline"
   ]
  },
  {
   "cell_type": "markdown",
   "metadata": {},
   "source": [
    "Here we extract several parameters relative to **morphometrics analysis**. The analysis relies on the combined file (*i.e.* surface coordinates and LEC values) produced in the notebook `1-computeLEC`. \n",
    "\n",
    "The following suite of geomorphic attributes could be extracted:\n",
    "- **gradient**: magnitude of maximum gradient\n",
    "- **horizontal curvature** describes convergent or divergent fluxes\n",
    "- **vertical curvature**: positive values describe convex profile curvature, negative values concave profile.\n",
    "- **aspect**: direction of maximum gradient"
   ]
  },
  {
   "cell_type": "code",
   "execution_count": null,
   "metadata": {
    "collapsed": true
   },
   "outputs": [],
   "source": [
    "def assignBCs(z,nx,ny):\n",
    "    \n",
    "    Zbc = np.zeros((nx + 2, ny + 2))\n",
    "    Zbc[1:-1,1:-1] = z\n",
    "    Zbc[0, 1:-1] = z[0, :]\n",
    "    Zbc[-1, 1:-1] = z[-1, :]\n",
    "    Zbc[1:-1, 0] = z[:, 0]\n",
    "    Zbc[1:-1, -1] = z[:,-1]\n",
    "    Zbc[0, 0] = z[0, 0]\n",
    "    Zbc[0, -1] = z[0, -1]\n",
    "    Zbc[-1, 0] = z[-1, 0]\n",
    "    Zbc[-1, -1] = z[-1, 0]\n",
    "\n",
    "    return Zbc\n",
    "\n",
    "def cmptParams(x,y,Z):\n",
    "\n",
    "    Zbc = assignBCs(Z,x.shape[0],x.shape[1])\n",
    "    z1 = Zbc[2:, :-2]\n",
    "    z2 = Zbc[2:,1:-1]\n",
    "    z3 = Zbc[2:,2:]\n",
    "    z4 = Zbc[1:-1, :-2]\n",
    "    z5 = Zbc[1:-1,1:-1]\n",
    "    z6 = Zbc[1:-1, 2:]\n",
    "    z7 = Zbc[:-2, :-2]\n",
    "    z8 = Zbc[:-2, 1:-1]\n",
    "    z9 = Zbc[:-2, 2:]\n",
    "\n",
    "    dx = x[0,1]-x[0,0]\n",
    "    zz = z2+z5\n",
    "    r = ((z1+z3+z4+z6+z7+z9)-2.*(z2+z5+z8))/(3. * dx**2)\n",
    "    t = ((z1+z2+z3+z7+z8+z9)-2.*(z4+z5+z6))/(3. * dx**2)\n",
    "    s = (z3+z7-z1-z9)/(4. * dx**2)\n",
    "    p = (z3+z6+z9-z1-z4-z7)/(6.*dx)\n",
    "    q = (z1+z2+z3-z7-z8-z9)/(6.*dx)\n",
    "    u = (5.*z1+2.*(z2+z4+z6+z8)-z1-z3-z7-z9)/9.\n",
    "\n",
    "    with np.errstate(invalid='ignore',divide='ignore'):\n",
    "        grad = np.arctan(np.sqrt(p**2+q**2))\n",
    "        aspect = np.arctan(q/p)\n",
    "        hcurv = -(r*q**2-2.*p*q*s+t*p**2) / \\\n",
    "                ((p**2+q**2)*np.sqrt(1+p**2+q**2))\n",
    "        vcurv = -(r*p**2+2.*p*q*s+t*q**2) /  \\\n",
    "                ((p**2+q**2)*np.sqrt(1+p**2+q**2))\n",
    "\n",
    "        return grad,aspect,hcurv,vcurv"
   ]
  },
  {
   "cell_type": "code",
   "execution_count": null,
   "metadata": {
    "collapsed": true
   },
   "outputs": [],
   "source": [
    "def regridDataSet(filename,outputfile):\n",
    "    azimuth=315.0\n",
    "    altitude=45.0\n",
    "    \n",
    "    df = pd.read_csv(filename)\n",
    "    x = df['X']\n",
    "    y = df['Y']\n",
    "    z = df['Z']\n",
    "    lec = df['LEC']\n",
    "    dx = (x[1]-x[0])\n",
    "    nx = int((x.max() - x.min())/dx+1)\n",
    "    ny = int((y.max() - y.min())/dx+1)\n",
    "    xi = np.linspace(x.min(), x.max(), nx)\n",
    "    yi = np.linspace(y.min(), y.max(), ny)\n",
    "    xi, yi = np.meshgrid(xi, yi)\n",
    "    xyi = np.dstack([xi.flatten(), yi.flatten()])[0]\n",
    "    XY = np.column_stack((x,y))\n",
    "    zi = np.reshape(z,(ny,nx))\n",
    "    leci = np.reshape(lec,(ny,nx))\n",
    "\n",
    "    # Calculate gradient\n",
    "    Sx, Sy = np.gradient(zi)\n",
    "\n",
    "    rad2deg = 180.0 / np.pi\n",
    "    slope = 90. - np.arctan(np.sqrt(Sx**2 + Sy**2))*rad2deg\n",
    "    slp = np.sqrt(Sx**2 + Sy**2)\n",
    "\n",
    "    aspect = np.arctan2(-Sx, Sy)\n",
    "    deg2rad = np.pi / 180.0\n",
    "    shaded = np.sin(altitude*deg2rad) * np.sin(slope*deg2rad) \\\n",
    "             + np.cos(altitude*deg2rad) * np.cos(slope*deg2rad) \\\n",
    "             * np.cos((azimuth - 90.0)*deg2rad - aspect)\n",
    "    shaded = shaded * 255\n",
    "\n",
    "    slp,aspect,hcurv,vcurv = cmptParams(xi,yi,zi)\n",
    "    \n",
    "    df2 = pd.DataFrame({'X':xi.flatten(),'Y':yi.flatten(),'Z':zi.flatten(),'LEC':leci.flatten(),\n",
    "                      'LEC':leci.flatten(),'SLP':slp.flatten(),'ASPECT':aspect.flatten(),\n",
    "                       'HCURV':hcurv.flatten(),'VCURV':vcurv.flatten()})\n",
    "    df2.to_csv(outputfile,columns=['X', 'Y', 'Z', 'LEC','SLP', 'ASPECT', 'HCURV', 'VCURV'], sep=',', index=False ,header=1)\n",
    "\n",
    "    return zi,leci,slp,aspect,hcurv,vcurv"
   ]
  },
  {
   "cell_type": "markdown",
   "metadata": {},
   "source": [
    "Previous python functions are used to compute the metrics defined above. To make this work for your specific case, you will need to change the values of `filename` and `outputfile` in the cell below."
   ]
  },
  {
   "cell_type": "code",
   "execution_count": null,
   "metadata": {
    "collapsed": true
   },
   "outputs": [],
   "source": [
    "filename = 'dataset/combined.csv'\n",
    "outputfile = 'dataset/topoData.csv'\n",
    "zi,leci,slp,aspect,hcurv,vcurv = regridDataSet(filename,outputfile)"
   ]
  },
  {
   "cell_type": "markdown",
   "metadata": {},
   "source": [
    "## Visualisation of computed metrics"
   ]
  },
  {
   "cell_type": "code",
   "execution_count": null,
   "metadata": {
    "collapsed": true
   },
   "outputs": [],
   "source": [
    "def visMetrics(data=None,color=cmo.cm.delta,title='metric',figsize=(6,6),extend=None,save=None):\n",
    "    save = None\n",
    "    fig = plt.figure(figsize=figsize)\n",
    "    ax1 = plt.gca()\n",
    "\n",
    "    ax1.set_title(title, fontsize=10)\n",
    "    if extend is None:\n",
    "        im1 = plt.imshow(np.flipud(data), vmin=data.min(), vmax=data.max(), \n",
    "                         cmap=color, aspect='auto')\n",
    "    else:\n",
    "        im1 = plt.imshow(np.flipud(data), vmin=extend[0], vmax=extend[1], \n",
    "                         cmap=color, aspect='auto')\n",
    "        \n",
    "    ax1.tick_params(axis='x', labelsize=8)\n",
    "    ax1.tick_params(axis='y', labelsize=8)\n",
    "    ax1.grid(False)\n",
    "\n",
    "    divider1 = make_axes_locatable(ax1)\n",
    "    cax1 = divider1.append_axes(\"right\", size=\"5%\", pad=0.05)\n",
    "    cbar1 = plt.colorbar(im1,cax=cax1)\n",
    "    cbar1.ax.tick_params(labelsize=9) \n",
    "\n",
    "    plt.tight_layout()\n",
    "    plt.show()\n",
    "    if save is not None:\n",
    "        fig.savefig(save,dpi=200, bbox_inches='tight')\n",
    "        \n",
    "    return"
   ]
  },
  {
   "cell_type": "code",
   "execution_count": null,
   "metadata": {},
   "outputs": [],
   "source": [
    "visMetrics(data=zi,color=cmo.cm.delta,title='Landscape elevation',figsize=(6,6),save=None)"
   ]
  },
  {
   "cell_type": "code",
   "execution_count": null,
   "metadata": {},
   "outputs": [],
   "source": [
    "visMetrics(data=leci,color=cmo.cm.balance,title='Landscape elevational connectivity',figsize=(6,6),save=None)"
   ]
  },
  {
   "cell_type": "code",
   "execution_count": null,
   "metadata": {},
   "outputs": [],
   "source": [
    "visMetrics(data=slp,color=cmo.cm.tempo,title='Slope',figsize=(6,6),extend=[1.5,1.6],save=None)"
   ]
  },
  {
   "cell_type": "code",
   "execution_count": null,
   "metadata": {},
   "outputs": [],
   "source": [
    "visMetrics(data=vcurv,color=cmo.cm.balance,title='Vertical curvature',figsize=(6,6),extend=[-2,2],save=None)"
   ]
  },
  {
   "cell_type": "code",
   "execution_count": null,
   "metadata": {},
   "outputs": [],
   "source": [
    "visMetrics(data=hcurv,color=cmo.cm.balance,title='Horizontal curvature',figsize=(6,6),extend=[-2,2],save=None)"
   ]
  },
  {
   "cell_type": "code",
   "execution_count": null,
   "metadata": {},
   "outputs": [],
   "source": [
    "visMetrics(data=aspect,color=cmo.cm.balance,title='Aspect',figsize=(6,6),extend=[-2,2],save=None)"
   ]
  },
  {
   "cell_type": "code",
   "execution_count": null,
   "metadata": {
    "collapsed": true
   },
   "outputs": [],
   "source": []
  }
 ],
 "metadata": {
  "kernelspec": {
   "display_name": "Python 2",
   "language": "python",
   "name": "python2"
  },
  "language_info": {
   "codemirror_mode": {
    "name": "ipython",
    "version": 2
   },
   "file_extension": ".py",
   "mimetype": "text/x-python",
   "name": "python",
   "nbconvert_exporter": "python",
   "pygments_lexer": "ipython2",
   "version": "2.7.6"
  }
 },
 "nbformat": 4,
 "nbformat_minor": 2
}
