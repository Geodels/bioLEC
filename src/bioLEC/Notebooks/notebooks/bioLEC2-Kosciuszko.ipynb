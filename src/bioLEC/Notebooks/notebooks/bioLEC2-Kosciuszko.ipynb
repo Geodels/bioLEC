{
 "cells": [
  {
   "cell_type": "markdown",
   "metadata": {},
   "source": [
    "# Example 2: _Mount Kosciuszko region_\n",
    "\n",
    "In this second notebook, we illustrate the use of **bioLEC** to estimate the connectivity in different parts of the _Kosciuszko National Park_ region in Australia. \n",
    "\n",
    "**Mount Kosciuszko** is Australia's highest mountain at 2228 metres. It is located on the Main Range of the **Snowy Mountains** and is part of the _Australian Alps National Parks and Reserves_, in **New South Wales**.\n",
    "\n",
    "![Region](https://github.com/Geodels/bioLEC/blob/master/src/bioLEC/Notebooks/images/kosinit.jpg?raw=true)\n",
    "\n",
    "\n",
    "<div class=\"alert alert-block alert-info\">\n",
    "Here we use the Elevation Information System aka ELVIS a Geoscience Australia webportal design to access elevation datasets in an open, free and easily accessible environment. \n",
    "</div>\n",
    "\n",
    "The dataset is made available from [**ELVIS webserver**](http://elevation.fsdf.org.au). Here we resampled the dataset to a 100 m resolution grid. The digital elevation grid file is found in `dataset/kosciuszko.csv`.\n",
    "\n",
    "\n",
    "### Dependencies\n",
    "\n",
    "In addition to bioLEC, this notebook relies on:\n",
    "+ [lavavu](https://github.com/OKaluza/LavaVu) \n",
    "+ `pandas`."
   ]
  },
  {
   "cell_type": "code",
   "execution_count": null,
   "metadata": {},
   "outputs": [],
   "source": [
    "import lavavu\n",
    "import numpy as np\n",
    "import pandas as pd\n",
    "import bioLEC as bLEC\n",
    "\n",
    "%matplotlib inline\n",
    "%config InlineBackend.figure_format = 'svg' \n",
    "\n",
    "from pylab import rcParams\n",
    "import matplotlib.pyplot as plt\n",
    "import matplotlib.patches as patches\n",
    "from scipy.interpolate import RegularGridInterpolator\n",
    "from mpl_toolkits.axes_grid1 import make_axes_locatable\n",
    "\n",
    "%matplotlib inline"
   ]
  },
  {
   "cell_type": "markdown",
   "metadata": {},
   "source": [
    "## A. Sub-regions definition \n",
    "\n",
    "We plot the entire regions and will then create some smaller regions that will be used to compute the LEC..."
   ]
  },
  {
   "cell_type": "code",
   "execution_count": null,
   "metadata": {},
   "outputs": [],
   "source": [
    "df = pd.read_csv('../dataset/kosciuszko.csv', sep=' ', engine='c', header=None, na_filter=False, dtype=np.float,\n",
    "                               low_memory=False)\n",
    "XYZ = df.values\n",
    "dx = XYZ[1,0]-XYZ[0,0]\n",
    "nx = int((XYZ[:,0].max()-XYZ[:,0].min())/dx+1)\n",
    "ny = int((XYZ[:,1].max()-XYZ[:,1].min())/dx+1)"
   ]
  },
  {
   "cell_type": "code",
   "execution_count": null,
   "metadata": {},
   "outputs": [],
   "source": [
    "lv = lavavu.Viewer(border=False, background=\"#FFFFFF\", resolution=[800,500], near=-10.0)\n",
    "\n",
    "lvQuad = lv.quads(\"Z\",  vertices=XYZ, dims=[nx,ny], wireframe=False, colour=\"#161616\", opacity=1.0)\n",
    "lvQuad.vertices(XYZ)\n",
    "lvQuad.values(XYZ[:,2],\"elevation\")\n",
    "\n",
    "cm = lvQuad.colourmap(\"dem1\", range=[0,2700.], reverse=False)\n",
    "cb = lvQuad.colourbar()\n",
    "lvQuad.control.Panel()\n",
    "\n",
    "# Obtained from lv.camera()\n",
    "lv.translation(-650.607, 6108.765, -62771.094)\n",
    "lv.rotation(-29.367, -1.062, -0.807)\n",
    "lv.scale('z', 3)\n",
    "\n",
    "lv.control.ObjectList()\n",
    "lv.control.Range(command='scale z', range=(1,10), step=1, value=8)\n",
    "lv.control.show()"
   ]
  },
  {
   "cell_type": "markdown",
   "metadata": {},
   "source": [
    "We now define the 3 sub-regions..."
   ]
  },
  {
   "cell_type": "code",
   "execution_count": null,
   "metadata": {},
   "outputs": [],
   "source": [
    "def regionGrid(Z, mind=0, maxd=2500, color=plt.cm.terrain, listRect=None):\n",
    "\n",
    "    rcParams['figure.figsize'] = (9,9)\n",
    "    rcParams['font.size'] = 8\n",
    "    ax=plt.gca()\n",
    "    im = ax.imshow(Z,interpolation='nearest',cmap=color,vmin=mind, vmax=maxd)\n",
    "    divider = make_axes_locatable(ax)\n",
    "    cax = divider.append_axes(\"right\", size=\"2%\", pad=0.2)\n",
    "    plt.colorbar(im,cax=cax)\n",
    "    \n",
    "    # Add the patch to the Axes\n",
    "    if listRect is not None:\n",
    "        for k in range(len(listRect)):\n",
    "            ax.add_patch(listRect[k])\n",
    "    plt.show()\n",
    "    plt.close()\n",
    "\n",
    "    return"
   ]
  },
  {
   "cell_type": "code",
   "execution_count": null,
   "metadata": {
    "scrolled": false
   },
   "outputs": [],
   "source": [
    "Z = np.flipud(XYZ[:,2].reshape(ny,nx))\n",
    "\n",
    "# Create sub-regions\n",
    "regions = []\n",
    "\n",
    "# Sub-region 1\n",
    "rect1 = patches.Rectangle((100,50),150,100,linewidth=1,edgecolor='k',facecolor=(0,0,0,0.25))\n",
    "regions.append(rect1)\n",
    "Z1 = np.flipud(Z[50:150,100:250]).reshape(150,100)\n",
    "\n",
    "# Sub-region 2\n",
    "rect2 = patches.Rectangle((120,200),150,150,linewidth=1,edgecolor='k',facecolor=(0,0,0,0.25))\n",
    "regions.append(rect2)\n",
    "Z2 = np.flipud(Z[200:350,120:270]).reshape(150,150)\n",
    "\n",
    "# Sub-region 3\n",
    "rect3 = patches.Rectangle((300,270),130,130,linewidth=1,edgecolor='k',facecolor=(0,0,0,0.25))\n",
    "regions.append(rect3)\n",
    "Z3 = np.flipud(Z[270:400,300:430]).reshape(130,130)\n",
    "\n",
    "regionGrid(Z, color=plt.cm.terrain, listRect=regions)"
   ]
  },
  {
   "cell_type": "markdown",
   "metadata": {},
   "source": [
    "## B. bioLEC class initialisation\n",
    "\n",
    "<div class=\"alert alert-block alert-info\">\n",
    "Initialization function for building landscape elevational connectivity.\n",
    "</div>\n",
    "\n",
    "We will perform the **LEC** calculation on the sub-regions and obtain similar results as the ones presented in the figure below:\n",
    "\n",
    "![Results](https://github.com/Geodels/bioLEC/blob/master/src/bioLEC/Notebooks/images/kosres.jpg?raw=true)\n",
    "\n",
    "### Arguments\n",
    "\n",
    "The filename needs to be provided without extension.\n",
    "\n",
    "+ filename (`str`): `CSV` file name containing regularly spaced elevation grid [default: None]\n",
    "+ XYZ (`3D Numpy Array`): 3D coordinates array of shape (nn,3) where nn is the number of points [default: None]\n",
    "+ Z (`2D Numpy Array`): Elevation array of shape (nx,ny) where nx and ny are the number of points  along the X and Y axis [default: None]\n",
    "+ dx (`float`): grid spacing in metre when the Z argument defined above is used [default: None]\n",
    "+ periodic (`bool`):  applied periodic boundary to the elevation grid [default: False]\n",
    "+ symmetric (`bool`): applied symmetric boundary to the elevation grid [default: False]\n",
    "+ sigmap (`float`): species niche width percentage  based on elevation extent [default: 0.1]\n",
    "+ sigmav (`float`): species niche fixed width values [default: None]\n",
    "+ diagonals (`bool`): computes the path based on the diagonal moves as well as the axial ones eg. D4/D8 connectivity [default: True]\n",
    "+ delimiter (`str`):  elevation grid csv delimiter [default: ' ']\n",
    "+ sl (`float`):  sea level position used to remove marine points from the LEC calculation [default: -1.e6]\n",
    "\n",
    "Here we use for input Z (`2D Numpy Array`) argument to initialise the main function. "
   ]
  },
  {
   "cell_type": "code",
   "execution_count": null,
   "metadata": {},
   "outputs": [],
   "source": [
    "#LEC1 = bLEC.landscapeConnectivity(Z=Z1, dx=100) \n",
    "LEC2 = bLEC.landscapeConnectivity(Z=Z2, dx=100) \n",
    "#LEC3 = bLEC.landscapeConnectivity(Z=Z3, dx=100) "
   ]
  },
  {
   "cell_type": "markdown",
   "metadata": {},
   "source": [
    "### Visualising the initial mesh"
   ]
  },
  {
   "cell_type": "markdown",
   "metadata": {},
   "source": [
    "Define mesh coordinates from the package:"
   ]
  },
  {
   "cell_type": "code",
   "execution_count": null,
   "metadata": {},
   "outputs": [],
   "source": [
    "# v1 = np.vstack([LEC1.X, LEC1.Y])\n",
    "# v1 = np.vstack([v1, LEC1.Z]).T\n",
    "\n",
    "v2 = np.vstack([LEC2.X, LEC2.Y])\n",
    "v2 = np.vstack([v2, LEC2.Z]).T\n",
    "\n",
    "# v3 = np.vstack([LEC3.X, LEC3.Y])\n",
    "# v3 = np.vstack([v3, LEC3.Z]).T"
   ]
  },
  {
   "cell_type": "code",
   "execution_count": null,
   "metadata": {},
   "outputs": [],
   "source": [
    "lv = lavavu.Viewer(border=False, background=\"#FFFFFF\", resolution=[500,500], near=-10.0)\n",
    "\n",
    "lvQuad = lv.quads(\"Z\",  vertices=v2, dims=[LEC2.nx,LEC2.ny], wireframe=False, colour=\"#161616\", opacity=1.0)\n",
    "lvQuad.vertices(v2)\n",
    "lvQuad.values(LEC2.Z,\"elevation\")\n",
    "\n",
    "cm = lvQuad.colourmap(\"dem1\", range=[800,2700.], reverse=False)\n",
    "cb = lvQuad.colourbar()\n",
    "lvQuad.control.Panel()\n",
    "\n",
    "# Obtained from lv.camera()\n",
    "lv.translation(272.886, -32.86, -24118.826)\n",
    "lv.rotation(-13.641, 2.619, -0.509)\n",
    "lv.scale('z', 3)\n",
    "\n",
    "lv.control.ObjectList()\n",
    "lv.control.Range(command='scale z', range=(1,10), step=1, value=8)\n",
    "lv.control.show()"
   ]
  },
  {
   "cell_type": "markdown",
   "metadata": {},
   "source": [
    "## C. Computing landscape elevational connectivity\n",
    "\n",
    "This function computes the **minimum path for all nodes** in a given surface and **measure of the closeness** of each node to other at similar elevation range.\n",
    "\n",
    "It then provide the *landscape elevational connectivity* array from computed measure of closeness calculation."
   ]
  },
  {
   "cell_type": "code",
   "execution_count": null,
   "metadata": {},
   "outputs": [],
   "source": [
    "#LEC1.computeLEC()\n",
    "LEC2.computeLEC()\n",
    "#LEC3.computeLEC()"
   ]
  },
  {
   "cell_type": "markdown",
   "metadata": {},
   "source": [
    "### Visualisation of landscape elevational map"
   ]
  },
  {
   "cell_type": "code",
   "execution_count": null,
   "metadata": {},
   "outputs": [],
   "source": [
    "vLEC = np.divide(LEC2.LEC.flatten(),LEC2.LEC.max())\n",
    "\n",
    "lv1 = lavavu.Viewer(border=False, background=\"#FFFFFF\", resolution=[500,500], near=-10.0)\n",
    "\n",
    "lvQuad1 = lv1.quads(\"Z\",  vertices=v2, dims=[LEC2.nx,LEC2.ny], wireframe=False, colour=\"#161616\", opacity=1.0)\n",
    "lvQuad1.vertices(v2)\n",
    "lvQuad1.values(LEC2.Z,\"elevation\")\n",
    "cm = lvQuad1.colourmap(\"dem1\", range=[800,2700.], reverse=False)\n",
    "cb = lvQuad1.colourbar()\n",
    "lvQuad1.control.Panel()\n",
    "\n",
    "lvQuad2 = lv1.quads(\"LEC\",  vertices=v2, dims=[LEC2.nx,LEC2.ny], wireframe=False, colour=\"#161616\", opacity=1.0)\n",
    "lvQuad2.values(vLEC,\"LEC\")\n",
    "cm1 = lvQuad2.colourmap(\"coolwarm\", range=[0,1.], reverse=False)\n",
    "cb1 = lvQuad2.colourbar()\n",
    "\n",
    "# Obtained from lv.camera()\n",
    "lv.translation(272.886, -32.86, -24118.826)\n",
    "lv.rotation(-13.641, 2.619, -0.509)\n",
    "lv.scale('z', 3)\n",
    "\n",
    "lv1.control.ObjectList()\n",
    "lv1.control.Range(command='scale z', range=(1,10), step=1, value=8)\n",
    "lv1.control.show()"
   ]
  },
  {
   "cell_type": "markdown",
   "metadata": {},
   "source": [
    "## D. Write LEC data\n",
    "\n",
    "This function writes the computed landscape elevational connectivity array in a **CSV file**\n",
    "and create a **VTK visualisation file** (.vts).\n",
    "\n",
    "### Argument\n",
    "\n",
    "+ filename (str): output file name without format extension.\n",
    "\n",
    "<div class=\"alert alert-block alert-danger\">\n",
    "The filename needs to be provided without extension.\n",
    "</div>"
   ]
  },
  {
   "cell_type": "code",
   "execution_count": null,
   "metadata": {
    "scrolled": true
   },
   "outputs": [],
   "source": [
    "#LEC1.writeLEC('region1-result')\n",
    "LEC2.writeLEC('region2-result')\n",
    "#LEC3.writeLEC('region3-result')"
   ]
  },
  {
   "cell_type": "markdown",
   "metadata": {},
   "source": [
    "## E. Plotting elevation and LEC distribution\n",
    "\n",
    "### Elevation & LEC maps"
   ]
  },
  {
   "cell_type": "code",
   "execution_count": null,
   "metadata": {},
   "outputs": [],
   "source": [
    "#LEC1.viewResult(imName='plot1.png')\n",
    "LEC2.viewResult(imName='plot2.png')\n",
    "#LEC3.viewResult(imName='plot3.png')"
   ]
  },
  {
   "cell_type": "markdown",
   "metadata": {},
   "source": [
    "The following functions plot and save in a figure the **distribution of LEC and elevation with elevation** in different flavours...\n",
    "\n",
    "\n",
    "### Elevation frequency as a function of site elevation"
   ]
  },
  {
   "cell_type": "code",
   "execution_count": null,
   "metadata": {
    "scrolled": false
   },
   "outputs": [],
   "source": [
    "#LEC1.viewElevFrequency(input='region1-result', imName='elev1_freq.png', dpi=300)\n",
    "LEC2.viewElevFrequency(input='region2-result', imName='elev2_freq.png', dpi=300)\n",
    "#LEC3.viewElevFrequency(input='region3-result', imName='elev3_freq.png', dpi=300)"
   ]
  },
  {
   "cell_type": "markdown",
   "metadata": {},
   "source": [
    "### LEC as a function of site elevation"
   ]
  },
  {
   "cell_type": "code",
   "execution_count": null,
   "metadata": {},
   "outputs": [],
   "source": [
    "#LEC1.viewLECFrequency(input='region1-result', imName='lec1_freq.png', dpi=300)\n",
    "LEC2.viewLECFrequency(input='region2-result', imName='lec2_freq.png', dpi=300)\n",
    "#LEC3.viewLECFrequency(input='region3-result', imName='lec3_freq.png', dpi=300)"
   ]
  },
  {
   "cell_type": "markdown",
   "metadata": {},
   "source": [
    "### Elevation frequency and LEC as a function of site elevation with error bar"
   ]
  },
  {
   "cell_type": "code",
   "execution_count": null,
   "metadata": {},
   "outputs": [],
   "source": [
    "#LEC1.viewLECZbar(input='region1-result', imName='lec1_bar.png', dpi=300)\n",
    "LEC2.viewLECZbar(input='region2-result', imName='lec2_bar.png', dpi=300)\n",
    "#LEC3.viewLECZbar(input='region3-result', imName='lec3_bar.png', dpi=300)"
   ]
  },
  {
   "cell_type": "code",
   "execution_count": null,
   "metadata": {},
   "outputs": [],
   "source": []
  }
 ],
 "metadata": {
  "kernelspec": {
   "display_name": "Python 3",
   "language": "python",
   "name": "python3"
  },
  "language_info": {
   "codemirror_mode": {
    "name": "ipython",
    "version": 3
   },
   "file_extension": ".py",
   "mimetype": "text/x-python",
   "name": "python",
   "nbconvert_exporter": "python",
   "pygments_lexer": "ipython3",
   "version": "3.5.3"
  }
 },
 "nbformat": 4,
 "nbformat_minor": 2
}
