{
 "cells": [
  {
   "cell_type": "markdown",
   "metadata": {},
   "source": [
    "# Example 1: _Generic case_\n",
    "\n",
    "In this first notebook, we illustrate the use of **bioLEC** with a simple elevation grid defined in the file:  `dem.csv`.\n",
    "\n",
    "![Example](https://github.com/Geodels/bioLEC/blob/master/src/bioLEC/Notebooks/images/boundcond.jpg?raw=true)\n",
    "\n",
    "_Sample images created with `bioLEC` illustrating the difference in landscape elevational connectivity values with chosen boundary for the elevation grid used in this example_\n",
    "\n",
    "> *Landscape elevational connectivity* (**LEC**) quantifies the closeness of a site to all others with similar elevation. Such closeness is computed over a *graph* whose edges represent connections among sites and whose weights are proportional to the cost of spreading through patches at different elevation.\n",
    "\n",
    "+ E. Bertuzzo, F. Carrara, L. Mari, F. Altermatt, I. Rodriguez-Iturbe & A. Rinaldo - Geomorphic controls on species richness. **PNAS**, 113(7) 1737-1742, [DOI: 10.1073/pnas.1518922113](https://doi.org/10.1073/pnas.1518922113), 2016.\n",
    "\n",
    "### Dependencies\n",
    "\n",
    "In addition to bioLEC, this notebook relies on the [lavavu](https://github.com/OKaluza/LavaVu) package as well."
   ]
  },
  {
   "cell_type": "code",
   "execution_count": null,
   "metadata": {},
   "outputs": [],
   "source": [
    "import lavavu\n",
    "import numpy as np\n",
    "import bioLEC as bLEC\n",
    "\n",
    "%matplotlib inline\n",
    "%config InlineBackend.figure_format = 'svg' \n",
    "\n",
    "from pylab import rcParams\n",
    "%matplotlib inline"
   ]
  },
  {
   "cell_type": "markdown",
   "metadata": {},
   "source": [
    "## A. bioLEC class initialisation\n",
    "\n",
    "<div class=\"alert alert-block alert-info\">\n",
    "Initialization function for building landscape elevational connectivity.\n",
    "</div>\n",
    "\n",
    "\n",
    "### Arguments\n",
    "\n",
    "The filename needs to be provided without extension.\n",
    "\n",
    "+ filename (`str`): `CSV` file name containing regularly spaced elevation grid [default: None]\n",
    "+ XYZ (`3D Numpy Array`): 3D coordinates array of shape (nn,3) where nn is the number of points [default: None]\n",
    "+ Z (`2D Numpy Array`): Elevation array of shape (nx,ny) where nx and ny are the number of points  along the X and Y axis [default: None]\n",
    "+ dx (`float`): grid spacing in metre when the Z argument defined above is used [default: None]\n",
    "+ periodic (`bool`):  applied periodic boundary to the elevation grid [default: False]\n",
    "+ symmetric (`bool`): applied symmetric boundary to the elevation grid [default: False]\n",
    "+ sigmap (`float`): species niche width percentage  based on elevation extent [default: 0.1]\n",
    "+ sigmav (`float`): species niche fixed width values [default: None]\n",
    "+ connected (`bool`): computes the path based on the diagonal moves as well as the axial ones [default: True]\n",
    "+ delimiter (`str`):  elevation grid csv delimiter [default: ' ']\n",
    "+ sl (`float`):  sea level position used to remove marine points from the LEC calculation [default: -1.e6]"
   ]
  },
  {
   "cell_type": "code",
   "execution_count": null,
   "metadata": {},
   "outputs": [],
   "source": [
    "biodiv = bLEC.landscapeConnectivity(filename='../dataset/dem.csv')"
   ]
  },
  {
   "cell_type": "markdown",
   "metadata": {},
   "source": [
    "### Visualising the initial mesh"
   ]
  },
  {
   "cell_type": "markdown",
   "metadata": {},
   "source": [
    "Define mesh coordinates from the package:"
   ]
  },
  {
   "cell_type": "code",
   "execution_count": null,
   "metadata": {},
   "outputs": [],
   "source": [
    "verts = np.vstack([biodiv.X, biodiv.Y])\n",
    "verts = np.vstack([verts, biodiv.Z]).T"
   ]
  },
  {
   "cell_type": "code",
   "execution_count": null,
   "metadata": {},
   "outputs": [],
   "source": [
    "lv = lavavu.Viewer(border=False, background=\"#FFFFFF\", resolution=[500,500], near=-10.0)\n",
    "\n",
    "lvQuad = lv.quads(\"Z\",  vertices=verts, dims=[100,100], wireframe=False, colour=\"#161616\", opacity=1.0)\n",
    "lvQuad.vertices(verts)\n",
    "lvQuad.values(biodiv.Z,\"elevation\")\n",
    "\n",
    "cm = lvQuad.colourmap(\"dem1\", range=[0,1000.], reverse=False)\n",
    "cb = lvQuad.colourbar()\n",
    "lvQuad.control.Panel()\n",
    "\n",
    "# Obtained from lv.camera()\n",
    "lv.translation(559.076, 4074.758, -78583.664)\n",
    "lv.rotation(-35.209, 1.642, -0.915)\n",
    "lv.scale('z', 8)\n",
    "\n",
    "lv.control.ObjectList()\n",
    "lv.control.Range(command='scale z', range=(1,10), step=1, value=8)\n",
    "lv.control.show()"
   ]
  },
  {
   "cell_type": "markdown",
   "metadata": {},
   "source": [
    "## B. Computing landscape elevational connectivity\n",
    "\n",
    "This function computes the **minimum path for all nodes** in a given surface and **measure of the closeness** of each node to other at similar elevation range.\n",
    "\n",
    "It then provide the *landscape elevational connectivity* array from computed measure of closeness calculation."
   ]
  },
  {
   "cell_type": "code",
   "execution_count": null,
   "metadata": {},
   "outputs": [],
   "source": [
    "biodiv.computeLEC()"
   ]
  },
  {
   "cell_type": "markdown",
   "metadata": {},
   "source": [
    "### Visualisation of landscape elevational map"
   ]
  },
  {
   "cell_type": "code",
   "execution_count": null,
   "metadata": {},
   "outputs": [],
   "source": [
    "vLEC = np.divide(biodiv.LEC.flatten(),biodiv.LEC.max())\n",
    "\n",
    "lv1 = lavavu.Viewer(border=False, background=\"#FFFFFF\", resolution=[500,500], near=-10.0)\n",
    "\n",
    "lvQuad1 = lv1.quads(\"Z\",  vertices=verts, dims=[100,100], wireframe=False, colour=\"#161616\", opacity=1.0)\n",
    "lvQuad1.vertices(verts)\n",
    "lvQuad1.values(biodiv.Z,\"elevation\")\n",
    "cm = lvQuad1.colourmap(\"dem1\", range=[0,1000.], reverse=False)\n",
    "cb = lvQuad1.colourbar()\n",
    "lvQuad1.control.Panel()\n",
    "\n",
    "lvQuad2 = lv1.quads(\"LEC\",  vertices=verts, dims=[100,100], wireframe=False, colour=\"#161616\", opacity=1.0)\n",
    "lvQuad2.values(vLEC,\"LEC\")\n",
    "cm1 = lvQuad2.colourmap(\"coolwarm\", range=[0,1.], reverse=False)\n",
    "cb1 = lvQuad2.colourbar()\n",
    "\n",
    "# obtained from lv1.camera()\n",
    "lv1.translation(559.076, 4074.758, -78583.664)\n",
    "lv1.rotation(-35.209, 1.642, -0.915)\n",
    "lv1.scale('z', 8)\n",
    "\n",
    "lv1.control.ObjectList()\n",
    "lv1.control.Range(command='scale z', range=(1,10), step=1, value=8)\n",
    "lv1.control.show()"
   ]
  },
  {
   "cell_type": "markdown",
   "metadata": {},
   "source": [
    "## C. Write LEC data\n",
    "\n",
    "This function writes the computed landscape elevational connectivity array in a **CSV file**\n",
    "and create a **VTK visualisation file** (.vts).\n",
    "\n",
    "### Argument\n",
    "\n",
    "+ filename (str): output file name without format extension.\n",
    "\n",
    "<div class=\"alert alert-block alert-danger\">\n",
    "The filename needs to be provided without extension.\n",
    "</div>"
   ]
  },
  {
   "cell_type": "code",
   "execution_count": null,
   "metadata": {
    "scrolled": true
   },
   "outputs": [],
   "source": [
    "biodiv.writeLEC('result')"
   ]
  },
  {
   "cell_type": "markdown",
   "metadata": {},
   "source": [
    "## D. Plotting elevation and LEC distribution\n",
    "\n",
    "### Elevation & LEC maps"
   ]
  },
  {
   "cell_type": "code",
   "execution_count": null,
   "metadata": {},
   "outputs": [],
   "source": [
    "biodiv.viewResult(imName='plot.png')"
   ]
  },
  {
   "cell_type": "markdown",
   "metadata": {},
   "source": [
    "The following functions plot and save in a figure the **distribution of LEC and elevation with elevation** in different flavours...\n",
    "\n",
    "\n",
    "### Elevation frequency as a function of site elevation"
   ]
  },
  {
   "cell_type": "code",
   "execution_count": null,
   "metadata": {
    "scrolled": false
   },
   "outputs": [],
   "source": [
    "biodiv.viewElevFrequency(input='result', imName='elev_freq.png', dpi=300)"
   ]
  },
  {
   "cell_type": "markdown",
   "metadata": {},
   "source": [
    "### LEC as a function of site elevation"
   ]
  },
  {
   "cell_type": "code",
   "execution_count": null,
   "metadata": {},
   "outputs": [],
   "source": [
    "biodiv.viewLECFrequency(input='result', imName='lec_freq.png', dpi=300)"
   ]
  },
  {
   "cell_type": "markdown",
   "metadata": {},
   "source": [
    "### Elevation frequency and LEC as a function of site elevation with error bar"
   ]
  },
  {
   "cell_type": "code",
   "execution_count": null,
   "metadata": {},
   "outputs": [],
   "source": [
    "biodiv.viewLECZbar(input='result', imName='lec_bar.png', dpi=300)"
   ]
  },
  {
   "cell_type": "markdown",
   "metadata": {},
   "source": [
    "## E. Running from a terminal...\n",
    "\n",
    "It is possible to use the `runLEC.py` script to run the model in parallel or from the command line..."
   ]
  },
  {
   "cell_type": "code",
   "execution_count": null,
   "metadata": {},
   "outputs": [],
   "source": [
    "!mpirun -np 2 python3 runLEC.py -i '../dataset/dem.csv' -o 'result'"
   ]
  },
  {
   "cell_type": "code",
   "execution_count": null,
   "metadata": {},
   "outputs": [],
   "source": []
  }
 ],
 "metadata": {
  "kernelspec": {
   "display_name": "Python 3",
   "language": "python",
   "name": "python3"
  },
  "language_info": {
   "codemirror_mode": {
    "name": "ipython",
    "version": 3
   },
   "file_extension": ".py",
   "mimetype": "text/x-python",
   "name": "python",
   "nbconvert_exporter": "python",
   "pygments_lexer": "ipython3",
   "version": "3.5.3"
  }
 },
 "nbformat": 4,
 "nbformat_minor": 2
}
