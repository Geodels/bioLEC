{
 "cells": [
  {
   "cell_type": "markdown",
   "metadata": {},
   "source": [
    "# bioLEC - _Landscape elevational connectivity_\n",
    "\n",
    "A python package built to calculate the Landscape elevational connectivity (LEC)\n",
    "\n",
    "\n",
    "![Examples](https://github.com/Geodels/bioLEC/blob/master/src/bioLEC/Notebooks/images/intro.jpg?raw=true)\n",
    "\n",
    "> **LEC** quantifies the closeness of a site to all others with similar elevation. It measures how easily a species living in a given patch can spread and colonise other patches. It is assumed to be elevation-dependent and the metric depends on how often a species adapted to a given elevation needs to travel outside its optimal elevation range when moving from its patch to any other in the landscape.\n",
    "\n",
    "\n",
    "A documentation regarding **bioLEC** package is available from [readthedoc](http://biolec.readthedocs.io/)\n",
    "\n",
    "[![Documentation Status](https://readthedocs.org/projects/biolec/badge/?version=latest)](https://biolec.readthedocs.io/en/latest/?badge=latest)\n",
    "\n",
    "\n",
    "## Navigation / Notebooks\n",
    "\n",
    "There are three notebooks available to demonstrate `bioLEC` capability. \n",
    "\n",
    "- [bioLEC1-genericCase.ipynb](notebooks/bioLEC1-genericCase.ipynb)\n",
    "- [bioLEC2-Kosciuszko.ipynb](notebooks/bioLEC2-Kosciuszko.ipynb)\n",
    "- [bioLEC3-MeshGen.ipynb](notebooks/bioLEC3-MeshGen.ipynb)\n",
    "\n",
    "\n",
    "\n",
    "## References\n",
    "\n",
    "  1. E. Bertuzzo, F. Carrara, L. Mari, F. Altermatt, I. Rodriguez-Iturbe & A. Rinaldo - Geomorphic controls on species richness. **PNAS**, 113(7) 1737-1742, [DOI: 10.1073/pnas.1518922113](http://www.pnas.org/content/113/7/1737), 2016.\n",
    "\n",
    "  1. T.R. Etherington - Least-cost modelling and landscape ecology: concepts, applications, and opportunities. Current Landscape Ecology Reports 1:40-53, [DOI: 10.1007/s40823-016-0006-9](https://link.springer.com/article/10.1007%2Fs40823-016-0006-9), 2016.\n",
    "\n",
    "  1. S. van der Walt , J.L. Schönberger, J. Nunez-Iglesias, F. Boulogne, J.D. Warner, N. Yager, E. Gouillart & T. Yu - Scikit Image Contributors - scikit-image: image processing in Python, [PeerJ 2:e453](https://peerj.com/articles/453/), 2014.\n",
    "\n",
    "  1. T.R. Etherington - Least-cost modelling with Python using scikit-image, [Blog](http://tretherington.blogspot.com/2017/01/least-cost-modelling-with-python-using.html), 2017.\n",
    " "
   ]
  },
  {
   "cell_type": "code",
   "execution_count": null,
   "metadata": {},
   "outputs": [],
   "source": []
  }
 ],
 "metadata": {
  "kernelspec": {
   "display_name": "Python 3",
   "language": "python",
   "name": "python3"
  },
  "language_info": {
   "codemirror_mode": {
    "name": "ipython",
    "version": 3
   },
   "file_extension": ".py",
   "mimetype": "text/x-python",
   "name": "python",
   "nbconvert_exporter": "python",
   "pygments_lexer": "ipython3",
   "version": "3.5.3"
  }
 },
 "nbformat": 4,
 "nbformat_minor": 2
}
