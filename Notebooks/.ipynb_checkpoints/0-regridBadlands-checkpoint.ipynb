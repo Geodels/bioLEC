{
 "cells": [
  {
   "cell_type": "markdown",
   "metadata": {},
   "source": [
    "# Interpolate dataset from TIN to regular mesh"
   ]
  },
  {
   "cell_type": "code",
   "execution_count": 2,
   "metadata": {},
   "outputs": [
    {
     "ename": "ImportError",
     "evalue": "No module named plotly",
     "output_type": "error",
     "traceback": [
      "\u001b[0;31m\u001b[0m",
      "\u001b[0;31mImportError\u001b[0mTraceback (most recent call last)",
      "\u001b[0;32m<ipython-input-2-596a3bc797d9>\u001b[0m in \u001b[0;36m<module>\u001b[0;34m()\u001b[0m\n\u001b[1;32m     10\u001b[0m \u001b[0;34m\u001b[0m\u001b[0m\n\u001b[1;32m     11\u001b[0m \u001b[0;31m# Import badlands grid generation toolbox\u001b[0m\u001b[0;34m\u001b[0m\u001b[0;34m\u001b[0m\u001b[0m\n\u001b[0;32m---> 12\u001b[0;31m \u001b[0;32mimport\u001b[0m \u001b[0mmorphoGrid\u001b[0m \u001b[0;32mas\u001b[0m \u001b[0mmorph\u001b[0m\u001b[0;34m\u001b[0m\u001b[0m\n\u001b[0m\u001b[1;32m     13\u001b[0m \u001b[0;32mimport\u001b[0m \u001b[0mpybadlands_companion\u001b[0m\u001b[0;34m.\u001b[0m\u001b[0mhydroGrid\u001b[0m \u001b[0;32mas\u001b[0m \u001b[0mhydr\u001b[0m\u001b[0;34m\u001b[0m\u001b[0m\n\u001b[1;32m     14\u001b[0m \u001b[0;32mfrom\u001b[0m \u001b[0mscipy\u001b[0m\u001b[0;34m.\u001b[0m\u001b[0minterpolate\u001b[0m \u001b[0;32mimport\u001b[0m \u001b[0mRegularGridInterpolator\u001b[0m\u001b[0;34m\u001b[0m\u001b[0m\n",
      "\u001b[0;32m/live/share/bioLEC/notebooks/morphoGrid.py\u001b[0m in \u001b[0;36m<module>\u001b[0;34m()\u001b[0m\n\u001b[1;32m     22\u001b[0m \u001b[0;32mfrom\u001b[0m \u001b[0mscipy\u001b[0m\u001b[0;34m.\u001b[0m\u001b[0minterpolate\u001b[0m \u001b[0;32mimport\u001b[0m \u001b[0mRectBivariateSpline\u001b[0m\u001b[0;34m\u001b[0m\u001b[0m\n\u001b[1;32m     23\u001b[0m \u001b[0;34m\u001b[0m\u001b[0m\n\u001b[0;32m---> 24\u001b[0;31m \u001b[0;32mimport\u001b[0m \u001b[0mplotly\u001b[0m\u001b[0;34m\u001b[0m\u001b[0m\n\u001b[0m\u001b[1;32m     25\u001b[0m \u001b[0;32mfrom\u001b[0m \u001b[0mplotly\u001b[0m\u001b[0;34m.\u001b[0m\u001b[0mgraph_objs\u001b[0m \u001b[0;32mimport\u001b[0m \u001b[0;34m*\u001b[0m\u001b[0;34m\u001b[0m\u001b[0m\n\u001b[1;32m     26\u001b[0m \u001b[0mplotly\u001b[0m\u001b[0;34m.\u001b[0m\u001b[0moffline\u001b[0m\u001b[0;34m.\u001b[0m\u001b[0minit_notebook_mode\u001b[0m\u001b[0;34m(\u001b[0m\u001b[0;34m)\u001b[0m\u001b[0;34m\u001b[0m\u001b[0m\n",
      "\u001b[0;31mImportError\u001b[0m: No module named plotly"
     ]
    }
   ],
   "source": [
    "%matplotlib inline\n",
    "\n",
    "import warnings\n",
    "warnings.filterwarnings('ignore')\n",
    "warnings.simplefilter(action = \"ignore\", category = FutureWarning)\n",
    "\n",
    "import os\n",
    "import pandas as pd\n",
    "import numpy as np\n",
    "\n",
    "# Import badlands grid generation toolbox\n",
    "import morphoGrid as morph\n",
    "import pybadlands_companion.hydroGrid as hydr\n",
    "from scipy.interpolate import RegularGridInterpolator\n",
    "\n",
    "# display plots in SVG format\n",
    "%config InlineBackend.figure_format = 'svg' \n",
    "\n",
    "%matplotlib inline"
   ]
  },
  {
   "cell_type": "markdown",
   "metadata": {},
   "source": [
    "## Interpolation from TIN\n",
    "\n",
    "First we define the function `buildRegularGrid` that uses pyBadlands companion to remesh the triangular irregular network (TIN) over a regular grid."
   ]
  },
  {
   "cell_type": "code",
   "execution_count": null,
   "metadata": {
    "collapsed": true
   },
   "outputs": [],
   "source": [
    "def buildRegularGrid(folder=None,step=None,outputname=None, basinXY=None):\n",
    "\n",
    "    hydro = hydr.hydroGrid(folder=folder+'/h5', ncpus=1, \\\n",
    "                          ptXY = basinXY)\n",
    "    hydro.getCatchment(timestep=step)\n",
    "    \n",
    "    morpho = morph.morphoGrid(folder=folder+'/h5', \\\n",
    "                          ncpus=1, dx=100)\n",
    "    basinID = hydro.basinID\n",
    "    morpho.loadHDF5(timestep=step,basinIDs=hydro.Basin, XYf=hydro.XY)\n",
    "    \n",
    "    df = pd.DataFrame({'X':morpho.x.flatten(),'Y':morpho.y.flatten(),\n",
    "                        'Z':morpho.z.flatten(),'Basin':morpho.catchment.flatten()})   \n",
    "    \n",
    "    df.to_csv(outputname, columns=['X', 'Y', 'Z', 'Basin'], sep=',', index=False , \n",
    "              header=1)\n",
    "    \n",
    "    return basinID"
   ]
  },
  {
   "cell_type": "markdown",
   "metadata": {},
   "source": [
    "## Resolution of  regular grid\n",
    "\n",
    "One may want to change the resolution of the grid using the function `regridDEM` either to coarsen and refine the created grid."
   ]
  },
  {
   "cell_type": "code",
   "execution_count": null,
   "metadata": {
    "collapsed": true
   },
   "outputs": [],
   "source": [
    "def regridDEM(res, disp, inDEM, outDEM):\n",
    "    \"\"\"\n",
    "    Convert the initial regular DEM to the requested resolution.\n",
    "    \n",
    "    Parameters\n",
    "    ----------\n",
    "    variable: res\n",
    "        Resampling resolution in metres.\n",
    "    \n",
    "    variable: disp\n",
    "        Edge cell number to remove from the grid.\n",
    "        \n",
    "    variable: inDEM\n",
    "        Name of the CSV topographic file to regrid.\n",
    "        \n",
    "    variable: outDEM\n",
    "        Name of the new CSV topographic file.\n",
    "    \"\"\"\n",
    "\n",
    "    xyz = pd.read_csv(str(inDEM), sep=',', engine='c', header=0, na_filter=False, \\\n",
    "                               dtype=np.float, low_memory=False)\n",
    "    X = xyz.values[:,0]\n",
    "    dx = X[1] - X[0]\n",
    "    if res == dx:\n",
    "        print 'Data spacing: ',dx\n",
    "        print 'Requested spacing: ',res\n",
    "        raise ValueError('The requested resolution is equal to the existing one.')\n",
    "    Y = xyz.values[:,1]\n",
    "    \n",
    "    nx = int((X.max()-X.min())/dx + 1)\n",
    "    ny = int((Y.max()-Y.min())/dx + 1)\n",
    "    if nx*ny != len(X):\n",
    "        raise ValueError('Check your input file the size of the grid is not right.')\n",
    "\n",
    "    Z = np.reshape(xyz.values[:,2],(nx, ny),order='F')\n",
    "    xgrid = np.arange(X.min(),X.max()+dx,dx)\n",
    "    ygrid = np.arange(Y.min(),Y.max()+dx,dx)\n",
    "\n",
    "    \n",
    "    B = np.reshape(xyz.values[:,3],(nx, ny),order='F')\n",
    "    RGI_function = RegularGridInterpolator((xgrid, ygrid), Z)\n",
    "    RGI_function2 = RegularGridInterpolator((xgrid, ygrid), B)\n",
    "\n",
    "    ngridX = np.arange(X.min(),X.max(),res)\n",
    "    ngridY = np.arange(Y.min(),Y.max(),res)\n",
    "    xi, yi = np.meshgrid(ngridX, ngridY)\n",
    "    nnx = xi.shape[0]\n",
    "    nny = xi.shape[1]\n",
    "\n",
    "    zi = RGI_function((xi[disp:nnx-disp,disp:nny-disp].flatten(),\n",
    "                       yi[disp:nnx-disp,disp:nny-disp].flatten()))\n",
    "    \n",
    "    bi = RGI_function2((xi[disp:nnx-disp,disp:nny-disp].flatten(),\n",
    "                       yi[disp:nnx-disp,disp:nny-disp].flatten())).astype(int)\n",
    "    \n",
    "    df = pd.DataFrame({'X':xi[disp:nnx-disp,disp:nny-disp].flatten(),\n",
    "                       'Y':yi[disp:nnx-disp,disp:nny-disp].flatten(),\n",
    "                       'Z':zi.flatten(),'Basin':bi.flatten()})\n",
    "    df.to_csv(str(outDEM),columns=['X', 'Y', 'Z','Basin'], sep=',', index=False)\n",
    "    \n",
    "    return "
   ]
  },
  {
   "cell_type": "markdown",
   "metadata": {},
   "source": [
    "## Exporting grids temporally\n",
    "\n",
    "We first define the time steps number for which we wish to perform the regridding:"
   ]
  },
  {
   "cell_type": "code",
   "execution_count": null,
   "metadata": {
    "collapsed": true
   },
   "outputs": [],
   "source": [
    "tsteps = np.linspace(5,100,20).astype(int)"
   ]
  },
  {
   "cell_type": "markdown",
   "metadata": {},
   "source": [
    "We then need to specify: \n",
    "+ the regular grid resolution (`dx`), \n",
    "+ the edge cell number to be removed (`disps`), \n",
    "+ the pyBadlands output folder name containing the TIN files (`foldername`), \n",
    "+ as well as an optional point coordinates (`bXY`) for which the corresponding basin index over time is going to be recorded. "
   ]
  },
  {
   "cell_type": "code",
   "execution_count": null,
   "metadata": {},
   "outputs": [],
   "source": [
    "dx = 200.\n",
    "disps = 5\n",
    "bXY = [54331.5,4706.67]\n",
    "foldername = '/workspace/volume/mountain/outputKeDecay'\n",
    "outputfolder = '/workspace/volume/biodiversity/outputKeDecay'"
   ]
  },
  {
   "cell_type": "markdown",
   "metadata": {},
   "source": [
    "We then loop over the requested time steps and perform the remeshing:"
   ]
  },
  {
   "cell_type": "code",
   "execution_count": null,
   "metadata": {
    "collapsed": true
   },
   "outputs": [],
   "source": [
    "basinID = []\n",
    "for k in range(len(tsteps)):\n",
    "    steps = tsteps[k]\n",
    "    print '+ Performing regridding for step: ',steps\n",
    "    output = 'tmpdata.csv'\n",
    "    outputBio = foldername+str(steps)+'grid.csv'\n",
    "    bID = buildRegularGrid(folder=foldername,step=steps,outputname=output,basinXY=bXY)\n",
    "    basinID.append(bID)\n",
    "    regridDEM(res = dx, disp = disps,inDEM = output, outDEM=outputBio)\n",
    "    os.remove(output)\n",
    "catchmentID = np.asarray(basinID,int)[:,0]"
   ]
  },
  {
   "cell_type": "markdown",
   "metadata": {},
   "source": [
    "Catchment ID over time corresponding to the requested point:"
   ]
  },
  {
   "cell_type": "code",
   "execution_count": null,
   "metadata": {},
   "outputs": [],
   "source": [
    "print catchmentID"
   ]
  },
  {
   "cell_type": "code",
   "execution_count": null,
   "metadata": {
    "collapsed": true
   },
   "outputs": [],
   "source": []
  }
 ],
 "metadata": {
  "kernelspec": {
   "display_name": "Python 2",
   "language": "python",
   "name": "python2"
  },
  "language_info": {
   "codemirror_mode": {
    "name": "ipython",
    "version": 2
   },
   "file_extension": ".py",
   "mimetype": "text/x-python",
   "name": "python",
   "nbconvert_exporter": "python",
   "pygments_lexer": "ipython2",
   "version": "2.7.12"
  }
 },
 "nbformat": 4,
 "nbformat_minor": 2
}
